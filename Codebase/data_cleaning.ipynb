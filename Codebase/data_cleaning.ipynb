{
 "cells": [
  {
   "cell_type": "code",
   "execution_count": 3,
   "id": "53976099-1089-4718-80a3-fc6705a6f93e",
   "metadata": {},
   "outputs": [],
   "source": [
    "import pandas as pd"
   ]
  },
  {
   "cell_type": "code",
   "execution_count": 4,
   "id": "e5f64de0-256a-45c7-b705-612f09efb7d4",
   "metadata": {},
   "outputs": [
    {
     "name": "stderr",
     "output_type": "stream",
     "text": [
      "/var/folders/m6/3pcgbghn08g7pqfmfnpqfcqr0000gn/T/ipykernel_73343/1778024201.py:1: DtypeWarning: Columns (6) have mixed types. Specify dtype option on import or set low_memory=False.\n",
      "  deathdata = pd.read_csv('/Users/gageholcomb/Desktop/Capstone/Data/National/Overdose/VSRR_Provisional_Drug_Overdose_Death_Counts.csv')\n"
     ]
    }
   ],
   "source": [
    "deathdata = pd.read_csv('/Users/gageholcomb/Desktop/Capstone/Data/National/Overdose/VSRR_Provisional_Drug_Overdose_Death_Counts.csv')"
   ]
  },
  {
   "cell_type": "code",
   "execution_count": 5,
   "id": "3a8fbda2-aca1-4840-8d0f-799ccfe29f7f",
   "metadata": {},
   "outputs": [],
   "source": [
    "deathdata = deathdata.loc[deathdata['Indicator'] == 'Number of Drug Overdose Deaths']"
   ]
  },
  {
   "cell_type": "code",
   "execution_count": 6,
   "id": "9741e73b-204c-484f-8f49-836e3cdd63b9",
   "metadata": {},
   "outputs": [],
   "source": [
    "deathdata = deathdata[['State', 'Year', 'Data Value']]"
   ]
  },
  {
   "cell_type": "code",
   "execution_count": 7,
   "id": "ef275eaa-cce6-4c10-a199-9167cb886de4",
   "metadata": {},
   "outputs": [],
   "source": [
    "deathdata['Data Value'] = deathdata['Data Value'].str.replace(',','')"
   ]
  },
  {
   "cell_type": "code",
   "execution_count": 8,
   "id": "a6f518f1-0182-41c9-8acd-09d565d9d342",
   "metadata": {},
   "outputs": [],
   "source": [
    "deathdata['Data Value'] = deathdata['Data Value'].astype('int')"
   ]
  },
  {
   "cell_type": "code",
   "execution_count": 9,
   "id": "fbb75c9d-3af9-4ad1-a6a6-83381abd5aaf",
   "metadata": {},
   "outputs": [],
   "source": [
    "deathdata = deathdata.groupby(['State','Year']).mean()"
   ]
  },
  {
   "cell_type": "code",
   "execution_count": 10,
   "id": "7a42eab5-69f4-43d7-ba9d-4d4e9c776535",
   "metadata": {},
   "outputs": [],
   "source": [
    "deathdata = deathdata.reset_index()"
   ]
  },
  {
   "cell_type": "code",
   "execution_count": 11,
   "id": "dd6b99e2-dc96-41dd-b8c8-cb5e51d327fe",
   "metadata": {},
   "outputs": [],
   "source": [
    "deathdata = deathdata.drop(deathdata.loc[deathdata['State'] == 'US'].index)"
   ]
  },
  {
   "cell_type": "code",
   "execution_count": 12,
   "id": "e00cd01d-3a99-441e-b9e7-baea81199a87",
   "metadata": {},
   "outputs": [],
   "source": [
    "deathdata = deathdata.drop(deathdata.loc[deathdata['State'] == 'YC'].index)"
   ]
  },
  {
   "cell_type": "code",
   "execution_count": 13,
   "id": "3e9290d9-da39-4883-b3c4-5f77447d1125",
   "metadata": {},
   "outputs": [],
   "source": [
    "deathdata = deathdata.round()"
   ]
  },
  {
   "cell_type": "code",
   "execution_count": 14,
   "id": "6ee9609b-1cb5-4e94-b330-486b7d2b4d8b",
   "metadata": {},
   "outputs": [],
   "source": [
    "deathdata.to_csv('/Users/gageholcomb/Desktop/Capstone/Data/National/Overdose/deathdata.csv')"
   ]
  },
  {
   "cell_type": "code",
   "execution_count": 18,
   "id": "4395739a-01e0-4d92-8bf5-a883d6c2018a",
   "metadata": {},
   "outputs": [],
   "source": [
    "tndeath = pd.read_csv('/Users/gageholcomb/Desktop/Capstone/Data/Regional/FatalOD_Downloadable_Data_2013_2022.csv')"
   ]
  },
  {
   "cell_type": "code",
   "execution_count": 26,
   "id": "48b2dcc8-08bd-4e51-b6a7-f097179425e3",
   "metadata": {},
   "outputs": [],
   "source": [
    "tndeath = tndeath.drop(tndeath.loc[tndeath['Value Type'] == 'Rate'].index)"
   ]
  },
  {
   "cell_type": "code",
   "execution_count": 40,
   "id": "01db5ed7-e9cb-4f6d-8fd1-75eec37129e1",
   "metadata": {},
   "outputs": [],
   "source": [
    "tndeath = tndeath[['Year', 'Geography', 'Indicator', 'Value', 'Demographics']]"
   ]
  },
  {
   "cell_type": "code",
   "execution_count": 48,
   "id": "8e126547-787b-4f23-b297-3634ccc4f989",
   "metadata": {},
   "outputs": [],
   "source": [
    "tndeath = tndeath.loc[tndeath['Indicator'] == 'All Drug Overdose Deaths']"
   ]
  },
  {
   "cell_type": "code",
   "execution_count": 54,
   "id": "058e0057-02b6-4c94-90d7-d59573ae4605",
   "metadata": {},
   "outputs": [],
   "source": [
    "tndeath.to_csv('/Users/gageholcomb/Desktop/Capstone/Data/Regional/tndeath.csv')"
   ]
  },
  {
   "cell_type": "code",
   "execution_count": null,
   "id": "403cc591-8df4-4c92-a60e-c2a5a10a742d",
   "metadata": {},
   "outputs": [],
   "source": []
  }
 ],
 "metadata": {
  "kernelspec": {
   "display_name": "Python 3 (ipykernel)",
   "language": "python",
   "name": "python3"
  },
  "language_info": {
   "codemirror_mode": {
    "name": "ipython",
    "version": 3
   },
   "file_extension": ".py",
   "mimetype": "text/x-python",
   "name": "python",
   "nbconvert_exporter": "python",
   "pygments_lexer": "ipython3",
   "version": "3.11.7"
  }
 },
 "nbformat": 4,
 "nbformat_minor": 5
}
