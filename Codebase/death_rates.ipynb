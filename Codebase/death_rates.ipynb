{
 "cells": [
  {
   "cell_type": "code",
   "execution_count": 999,
   "id": "8552b039-7047-4e2c-8a37-86e482191066",
   "metadata": {},
   "outputs": [],
   "source": [
    "import pandas as pd\n",
    "import matplotlib.pyplot as plt\n",
    "import matplotlib as mpl\n",
    "import numpy as np\n",
    "import seaborn as sns"
   ]
  },
  {
   "cell_type": "code",
   "execution_count": 1000,
   "id": "bc3df4ac-bcf7-4a41-a795-18f141fd990c",
   "metadata": {},
   "outputs": [],
   "source": [
    "deaths = pd.read_csv('/Users/gageholcomb/Desktop/DDA13/Capstone/Raw_Capstone/Data/National/Overdose/Provisional_drug_overdose_death_counts_for_specific_drugs_20240731.csv')"
   ]
  },
  {
   "cell_type": "code",
   "execution_count": 1001,
   "id": "a8372acf-099a-4097-add6-5460500d9292",
   "metadata": {},
   "outputs": [
    {
     "data": {
      "text/html": [
       "<div>\n",
       "<style scoped>\n",
       "    .dataframe tbody tr th:only-of-type {\n",
       "        vertical-align: middle;\n",
       "    }\n",
       "\n",
       "    .dataframe tbody tr th {\n",
       "        vertical-align: top;\n",
       "    }\n",
       "\n",
       "    .dataframe thead th {\n",
       "        text-align: right;\n",
       "    }\n",
       "</style>\n",
       "<table border=\"1\" class=\"dataframe\">\n",
       "  <thead>\n",
       "    <tr style=\"text-align: right;\">\n",
       "      <th></th>\n",
       "      <th>data_as_of</th>\n",
       "      <th>death_year</th>\n",
       "      <th>death_month</th>\n",
       "      <th>jurisdiction_occurrence</th>\n",
       "      <th>drug_involved</th>\n",
       "      <th>time_period</th>\n",
       "      <th>month_ending_date</th>\n",
       "      <th>drug_overdose_deaths</th>\n",
       "      <th>footnote</th>\n",
       "    </tr>\n",
       "  </thead>\n",
       "  <tbody>\n",
       "    <tr>\n",
       "      <th>0</th>\n",
       "      <td>07/10/2024</td>\n",
       "      <td>2019</td>\n",
       "      <td>1</td>\n",
       "      <td>United States</td>\n",
       "      <td>Cocaine</td>\n",
       "      <td>12 month-ending</td>\n",
       "      <td>01/31/2019</td>\n",
       "      <td>15613.0</td>\n",
       "      <td>NaN</td>\n",
       "    </tr>\n",
       "    <tr>\n",
       "      <th>1</th>\n",
       "      <td>07/10/2024</td>\n",
       "      <td>2019</td>\n",
       "      <td>1</td>\n",
       "      <td>United States</td>\n",
       "      <td>Fentanyl</td>\n",
       "      <td>12 month-ending</td>\n",
       "      <td>01/31/2019</td>\n",
       "      <td>30367.0</td>\n",
       "      <td>NaN</td>\n",
       "    </tr>\n",
       "    <tr>\n",
       "      <th>2</th>\n",
       "      <td>07/10/2024</td>\n",
       "      <td>2019</td>\n",
       "      <td>1</td>\n",
       "      <td>United States</td>\n",
       "      <td>Heroin</td>\n",
       "      <td>12 month-ending</td>\n",
       "      <td>01/31/2019</td>\n",
       "      <td>15475.0</td>\n",
       "      <td>NaN</td>\n",
       "    </tr>\n",
       "    <tr>\n",
       "      <th>3</th>\n",
       "      <td>07/10/2024</td>\n",
       "      <td>2019</td>\n",
       "      <td>1</td>\n",
       "      <td>United States</td>\n",
       "      <td>Methamphetamine</td>\n",
       "      <td>12 month-ending</td>\n",
       "      <td>01/31/2019</td>\n",
       "      <td>12059.0</td>\n",
       "      <td>NaN</td>\n",
       "    </tr>\n",
       "    <tr>\n",
       "      <th>4</th>\n",
       "      <td>07/10/2024</td>\n",
       "      <td>2019</td>\n",
       "      <td>1</td>\n",
       "      <td>United States</td>\n",
       "      <td>Oxycodone</td>\n",
       "      <td>12 month-ending</td>\n",
       "      <td>01/31/2019</td>\n",
       "      <td>5029.0</td>\n",
       "      <td>NaN</td>\n",
       "    </tr>\n",
       "    <tr>\n",
       "      <th>...</th>\n",
       "      <td>...</td>\n",
       "      <td>...</td>\n",
       "      <td>...</td>\n",
       "      <td>...</td>\n",
       "      <td>...</td>\n",
       "      <td>...</td>\n",
       "      <td>...</td>\n",
       "      <td>...</td>\n",
       "      <td>...</td>\n",
       "    </tr>\n",
       "    <tr>\n",
       "      <th>3955</th>\n",
       "      <td>07/10/2024</td>\n",
       "      <td>2023</td>\n",
       "      <td>8</td>\n",
       "      <td>Region 10</td>\n",
       "      <td>Xylazine</td>\n",
       "      <td>12 month-ending</td>\n",
       "      <td>08/31/2023</td>\n",
       "      <td>22.0</td>\n",
       "      <td>NaN</td>\n",
       "    </tr>\n",
       "    <tr>\n",
       "      <th>3956</th>\n",
       "      <td>07/10/2024</td>\n",
       "      <td>2023</td>\n",
       "      <td>9</td>\n",
       "      <td>Region 10</td>\n",
       "      <td>Xylazine</td>\n",
       "      <td>12 month-ending</td>\n",
       "      <td>09/30/2023</td>\n",
       "      <td>23.0</td>\n",
       "      <td>NaN</td>\n",
       "    </tr>\n",
       "    <tr>\n",
       "      <th>3957</th>\n",
       "      <td>07/10/2024</td>\n",
       "      <td>2023</td>\n",
       "      <td>10</td>\n",
       "      <td>Region 10</td>\n",
       "      <td>Xylazine</td>\n",
       "      <td>12 month-ending</td>\n",
       "      <td>10/31/2023</td>\n",
       "      <td>26.0</td>\n",
       "      <td>NaN</td>\n",
       "    </tr>\n",
       "    <tr>\n",
       "      <th>3958</th>\n",
       "      <td>07/10/2024</td>\n",
       "      <td>2023</td>\n",
       "      <td>11</td>\n",
       "      <td>Region 10</td>\n",
       "      <td>Xylazine</td>\n",
       "      <td>12 month-ending</td>\n",
       "      <td>11/30/2023</td>\n",
       "      <td>27.0</td>\n",
       "      <td>NaN</td>\n",
       "    </tr>\n",
       "    <tr>\n",
       "      <th>3959</th>\n",
       "      <td>07/10/2024</td>\n",
       "      <td>2023</td>\n",
       "      <td>12</td>\n",
       "      <td>Region 10</td>\n",
       "      <td>Xylazine</td>\n",
       "      <td>12 month-ending</td>\n",
       "      <td>12/31/2023</td>\n",
       "      <td>35.0</td>\n",
       "      <td>NaN</td>\n",
       "    </tr>\n",
       "  </tbody>\n",
       "</table>\n",
       "<p>3960 rows × 9 columns</p>\n",
       "</div>"
      ],
      "text/plain": [
       "      data_as_of  death_year  death_month jurisdiction_occurrence  \\\n",
       "0     07/10/2024        2019            1           United States   \n",
       "1     07/10/2024        2019            1           United States   \n",
       "2     07/10/2024        2019            1           United States   \n",
       "3     07/10/2024        2019            1           United States   \n",
       "4     07/10/2024        2019            1           United States   \n",
       "...          ...         ...          ...                     ...   \n",
       "3955  07/10/2024        2023            8               Region 10   \n",
       "3956  07/10/2024        2023            9               Region 10   \n",
       "3957  07/10/2024        2023           10               Region 10   \n",
       "3958  07/10/2024        2023           11               Region 10   \n",
       "3959  07/10/2024        2023           12               Region 10   \n",
       "\n",
       "        drug_involved      time_period month_ending_date  \\\n",
       "0             Cocaine  12 month-ending        01/31/2019   \n",
       "1            Fentanyl  12 month-ending        01/31/2019   \n",
       "2              Heroin  12 month-ending        01/31/2019   \n",
       "3     Methamphetamine  12 month-ending        01/31/2019   \n",
       "4           Oxycodone  12 month-ending        01/31/2019   \n",
       "...               ...              ...               ...   \n",
       "3955         Xylazine  12 month-ending        08/31/2023   \n",
       "3956         Xylazine  12 month-ending        09/30/2023   \n",
       "3957         Xylazine  12 month-ending        10/31/2023   \n",
       "3958         Xylazine  12 month-ending        11/30/2023   \n",
       "3959         Xylazine  12 month-ending        12/31/2023   \n",
       "\n",
       "      drug_overdose_deaths footnote  \n",
       "0                  15613.0      NaN  \n",
       "1                  30367.0      NaN  \n",
       "2                  15475.0      NaN  \n",
       "3                  12059.0      NaN  \n",
       "4                   5029.0      NaN  \n",
       "...                    ...      ...  \n",
       "3955                  22.0      NaN  \n",
       "3956                  23.0      NaN  \n",
       "3957                  26.0      NaN  \n",
       "3958                  27.0      NaN  \n",
       "3959                  35.0      NaN  \n",
       "\n",
       "[3960 rows x 9 columns]"
      ]
     },
     "execution_count": 1001,
     "metadata": {},
     "output_type": "execute_result"
    }
   ],
   "source": [
    "deaths"
   ]
  },
  {
   "cell_type": "code",
   "execution_count": 1002,
   "id": "34aefb7b-86d7-4b94-9dbe-4cff6ebc8e78",
   "metadata": {},
   "outputs": [],
   "source": [
    "deaths = pd.DataFrame(deaths)"
   ]
  },
  {
   "cell_type": "code",
   "execution_count": 1003,
   "id": "1dee2223-2203-42d4-a019-650fe6be040f",
   "metadata": {},
   "outputs": [],
   "source": [
    "deaths = deaths.drop(columns = ['data_as_of', 'death_month', 'jurisdiction_occurrence', 'time_period', 'month_ending_date', 'footnote'])"
   ]
  },
  {
   "cell_type": "code",
   "execution_count": 1004,
   "id": "af14ec22-442c-406b-927c-d1f1a462d2f4",
   "metadata": {},
   "outputs": [
    {
     "data": {
      "text/html": [
       "<div>\n",
       "<style scoped>\n",
       "    .dataframe tbody tr th:only-of-type {\n",
       "        vertical-align: middle;\n",
       "    }\n",
       "\n",
       "    .dataframe tbody tr th {\n",
       "        vertical-align: top;\n",
       "    }\n",
       "\n",
       "    .dataframe thead th {\n",
       "        text-align: right;\n",
       "    }\n",
       "</style>\n",
       "<table border=\"1\" class=\"dataframe\">\n",
       "  <thead>\n",
       "    <tr style=\"text-align: right;\">\n",
       "      <th></th>\n",
       "      <th>death_year</th>\n",
       "      <th>drug_overdose_deaths</th>\n",
       "    </tr>\n",
       "    <tr>\n",
       "      <th>drug_involved</th>\n",
       "      <th></th>\n",
       "      <th></th>\n",
       "    </tr>\n",
       "  </thead>\n",
       "  <tbody>\n",
       "    <tr>\n",
       "      <th>Cocaine</th>\n",
       "      <td>1333860</td>\n",
       "      <td>2835564.0</td>\n",
       "    </tr>\n",
       "    <tr>\n",
       "      <th>Fentanyl</th>\n",
       "      <td>1333860</td>\n",
       "      <td>6963778.0</td>\n",
       "    </tr>\n",
       "    <tr>\n",
       "      <th>Heroin</th>\n",
       "      <td>1333860</td>\n",
       "      <td>1274314.0</td>\n",
       "    </tr>\n",
       "    <tr>\n",
       "      <th>Methamphetamine</th>\n",
       "      <td>1333860</td>\n",
       "      <td>3042052.0</td>\n",
       "    </tr>\n",
       "    <tr>\n",
       "      <th>Oxycodone</th>\n",
       "      <td>1333860</td>\n",
       "      <td>572724.0</td>\n",
       "    </tr>\n",
       "    <tr>\n",
       "      <th>Xylazine</th>\n",
       "      <td>1333860</td>\n",
       "      <td>317958.0</td>\n",
       "    </tr>\n",
       "  </tbody>\n",
       "</table>\n",
       "</div>"
      ],
      "text/plain": [
       "                 death_year  drug_overdose_deaths\n",
       "drug_involved                                    \n",
       "Cocaine             1333860             2835564.0\n",
       "Fentanyl            1333860             6963778.0\n",
       "Heroin              1333860             1274314.0\n",
       "Methamphetamine     1333860             3042052.0\n",
       "Oxycodone           1333860              572724.0\n",
       "Xylazine            1333860              317958.0"
      ]
     },
     "execution_count": 1004,
     "metadata": {},
     "output_type": "execute_result"
    }
   ],
   "source": [
    "deaths.groupby(['drug_involved']).sum()"
   ]
  },
  {
   "cell_type": "code",
   "execution_count": 1005,
   "id": "b7d8b4be-15b4-4e0c-8536-21ee3bf0f59f",
   "metadata": {},
   "outputs": [],
   "source": [
    "fentanyl = deaths.loc[(deaths['drug_involved'] == 'Fentanyl')]"
   ]
  },
  {
   "cell_type": "code",
   "execution_count": 1006,
   "id": "8768ec1d-618d-448c-bf8b-6e40afa00f0e",
   "metadata": {},
   "outputs": [],
   "source": [
    "heroin = deaths.loc[(deaths['drug_involved'] == 'Heroin')]"
   ]
  },
  {
   "cell_type": "code",
   "execution_count": 1007,
   "id": "f5c932c8-cef2-4ee1-ba2b-8a009794758d",
   "metadata": {},
   "outputs": [],
   "source": [
    "oxycodone = deaths.loc[(deaths['drug_involved'] == 'Oxycodone')]"
   ]
  },
  {
   "cell_type": "code",
   "execution_count": 1008,
   "id": "3d09e88f-2740-4773-af97-3be6f3a0240b",
   "metadata": {},
   "outputs": [],
   "source": [
    "xylazine = deaths.loc[(deaths['drug_involved'] == 'Xylazine')]"
   ]
  },
  {
   "cell_type": "code",
   "execution_count": 1009,
   "id": "9cfa47db-da44-43fd-aabb-7aa2a4ab7da0",
   "metadata": {},
   "outputs": [],
   "source": [
    "fentanyl = fentanyl.drop(columns = 'drug_involved')"
   ]
  },
  {
   "cell_type": "code",
   "execution_count": 1010,
   "id": "468d1907-9f3d-476a-b49c-eba0b008020e",
   "metadata": {},
   "outputs": [],
   "source": [
    "heroin = heroin.drop(columns = 'drug_involved')"
   ]
  },
  {
   "cell_type": "code",
   "execution_count": 1011,
   "id": "4f42e2cf-2948-43c8-890c-cd20c1458892",
   "metadata": {},
   "outputs": [],
   "source": [
    "oxycodone = oxycodone.drop(columns = 'drug_involved')"
   ]
  },
  {
   "cell_type": "code",
   "execution_count": 1012,
   "id": "5aa22dea-5326-40f6-bb06-7dfa536d53e6",
   "metadata": {},
   "outputs": [],
   "source": [
    "xylazine = xylazine.drop(columns = 'drug_involved')"
   ]
  },
  {
   "cell_type": "code",
   "execution_count": 1013,
   "id": "0e6decd1-5299-4ee6-b2d9-e50ae88568dd",
   "metadata": {},
   "outputs": [],
   "source": [
    "fentanyl = fentanyl.groupby(['death_year']).sum()"
   ]
  },
  {
   "cell_type": "code",
   "execution_count": 1014,
   "id": "e259431f-aafa-4349-b6d5-f2e5b5251e13",
   "metadata": {},
   "outputs": [],
   "source": [
    "fentanyl = fentanyl.reset_index()"
   ]
  },
  {
   "cell_type": "code",
   "execution_count": 1015,
   "id": "59fc21f3-b114-44eb-b431-d3c561ad6054",
   "metadata": {},
   "outputs": [],
   "source": [
    "heroin = heroin.groupby(['death_year']).sum()"
   ]
  },
  {
   "cell_type": "code",
   "execution_count": 1016,
   "id": "d1a75549-6955-4789-9cb1-81afd90e4192",
   "metadata": {},
   "outputs": [],
   "source": [
    "heroin = heroin.reset_index()"
   ]
  },
  {
   "cell_type": "code",
   "execution_count": 1017,
   "id": "190f8897-6155-40ef-9ef1-cc0e04184804",
   "metadata": {},
   "outputs": [],
   "source": [
    "oxycodone = oxycodone.groupby(['death_year']).sum()"
   ]
  },
  {
   "cell_type": "code",
   "execution_count": 1018,
   "id": "36eb9628-a2de-4523-87c3-dd5393071a87",
   "metadata": {},
   "outputs": [],
   "source": [
    "oxycodone = oxycodone.reset_index()"
   ]
  },
  {
   "cell_type": "code",
   "execution_count": 1019,
   "id": "b6342d00-2edc-4b57-acfd-e12ddd0bb20c",
   "metadata": {},
   "outputs": [],
   "source": [
    "xylazine = xylazine.groupby(['death_year']).sum()"
   ]
  },
  {
   "cell_type": "code",
   "execution_count": 1020,
   "id": "390b668e-3093-4364-810d-a8b27c840897",
   "metadata": {},
   "outputs": [],
   "source": [
    "xylazine = xylazine.reset_index()"
   ]
  },
  {
   "cell_type": "code",
   "execution_count": 1021,
   "id": "cc50740d-0856-4efa-b8e6-cf8c2bc0a07e",
   "metadata": {},
   "outputs": [],
   "source": [
    "fentanyl = fentanyl.rename(columns = {'drug_overdose_deaths':'fentanyl_deaths'})"
   ]
  },
  {
   "cell_type": "code",
   "execution_count": 1022,
   "id": "78fb1ff3-6b6a-4576-8cda-0550163da0ee",
   "metadata": {},
   "outputs": [],
   "source": [
    "heroin = heroin.rename(columns = {'drug_overdose_deaths':'heroin_deaths'})"
   ]
  },
  {
   "cell_type": "code",
   "execution_count": 1023,
   "id": "d7786d07-17d6-4381-9fdb-b61f55bd05b6",
   "metadata": {},
   "outputs": [],
   "source": [
    "oxycodone = oxycodone.rename(columns = {'drug_overdose_deaths':'oxycodone_deaths'})"
   ]
  },
  {
   "cell_type": "code",
   "execution_count": 1024,
   "id": "14dbc375-ee01-4a6d-a666-f69e22800c2b",
   "metadata": {},
   "outputs": [],
   "source": [
    "xylazine = xylazine.rename(columns = {'drug_overdose_deaths':'xylazine_deaths'})"
   ]
  },
  {
   "cell_type": "code",
   "execution_count": 1025,
   "id": "a30d8bd6-85b8-4e33-b6fd-5cef47e7b258",
   "metadata": {},
   "outputs": [],
   "source": [
    "fentanyl = pd.DataFrame(fentanyl)"
   ]
  },
  {
   "cell_type": "code",
   "execution_count": 1026,
   "id": "a2a2b49f-6fd9-4f01-886e-febcdebb878c",
   "metadata": {},
   "outputs": [],
   "source": [
    "heroin = pd.DataFrame(heroin)"
   ]
  },
  {
   "cell_type": "code",
   "execution_count": 1027,
   "id": "38dda382-951c-4a52-90b6-f3ca1ba012ca",
   "metadata": {},
   "outputs": [],
   "source": [
    "oxycodone = pd.DataFrame(oxycodone)"
   ]
  },
  {
   "cell_type": "code",
   "execution_count": 1028,
   "id": "b035c400-67fe-484f-b15b-f7d461a3da60",
   "metadata": {},
   "outputs": [],
   "source": [
    "xylazine = pd.DataFrame(xylazine)"
   ]
  },
  {
   "cell_type": "code",
   "execution_count": 1029,
   "id": "2c2eafab-5e16-4d3e-abfb-f532ffdfa229",
   "metadata": {},
   "outputs": [],
   "source": [
    "fentanyl = fentanyl.astype('int')"
   ]
  },
  {
   "cell_type": "code",
   "execution_count": 1030,
   "id": "ae444f22-c54d-47e5-ac8a-5b044fd21588",
   "metadata": {},
   "outputs": [],
   "source": [
    "heroin = heroin.astype('int')"
   ]
  },
  {
   "cell_type": "code",
   "execution_count": 1031,
   "id": "c9b186df-d272-4c04-a671-0a795406e936",
   "metadata": {},
   "outputs": [],
   "source": [
    "oxycodone = oxycodone.astype('int')"
   ]
  },
  {
   "cell_type": "code",
   "execution_count": 1032,
   "id": "5ab05f66-c774-4670-92c1-c3e74adf2790",
   "metadata": {},
   "outputs": [],
   "source": [
    "xylazine = xylazine.astype('int')"
   ]
  },
  {
   "cell_type": "code",
   "execution_count": 1033,
   "id": "e94c8c41-60c4-4493-9243-84ec55e7d7b3",
   "metadata": {},
   "outputs": [],
   "source": [
    "one_half = fentanyl.merge(heroin, on = 'death_year')"
   ]
  },
  {
   "cell_type": "code",
   "execution_count": 1034,
   "id": "b1d96f45-efe9-4f7c-84ea-26e1dc1a8b06",
   "metadata": {},
   "outputs": [],
   "source": [
    "two_half = oxycodone.merge(xylazine, on = 'death_year')"
   ]
  },
  {
   "cell_type": "code",
   "execution_count": 1035,
   "id": "b0b2a792-445a-48f8-ad52-a627cebe6d83",
   "metadata": {},
   "outputs": [],
   "source": [
    "final_deaths = one_half.merge(two_half, on = 'death_year')"
   ]
  },
  {
   "cell_type": "code",
   "execution_count": 1036,
   "id": "69da1e43-b4e0-47db-9f12-e029fa5e85fe",
   "metadata": {},
   "outputs": [
    {
     "name": "stderr",
     "output_type": "stream",
     "text": [
      "/opt/anaconda3/lib/python3.11/site-packages/seaborn/_oldcore.py:1119: FutureWarning: use_inf_as_na option is deprecated and will be removed in a future version. Convert inf values to NaN before operating instead.\n",
      "  with pd.option_context('mode.use_inf_as_na', True):\n",
      "/opt/anaconda3/lib/python3.11/site-packages/seaborn/_oldcore.py:1119: FutureWarning: use_inf_as_na option is deprecated and will be removed in a future version. Convert inf values to NaN before operating instead.\n",
      "  with pd.option_context('mode.use_inf_as_na', True):\n",
      "/opt/anaconda3/lib/python3.11/site-packages/seaborn/_oldcore.py:1119: FutureWarning: use_inf_as_na option is deprecated and will be removed in a future version. Convert inf values to NaN before operating instead.\n",
      "  with pd.option_context('mode.use_inf_as_na', True):\n",
      "/opt/anaconda3/lib/python3.11/site-packages/seaborn/_oldcore.py:1119: FutureWarning: use_inf_as_na option is deprecated and will be removed in a future version. Convert inf values to NaN before operating instead.\n",
      "  with pd.option_context('mode.use_inf_as_na', True):\n",
      "/opt/anaconda3/lib/python3.11/site-packages/seaborn/_oldcore.py:1119: FutureWarning: use_inf_as_na option is deprecated and will be removed in a future version. Convert inf values to NaN before operating instead.\n",
      "  with pd.option_context('mode.use_inf_as_na', True):\n",
      "/opt/anaconda3/lib/python3.11/site-packages/seaborn/_oldcore.py:1119: FutureWarning: use_inf_as_na option is deprecated and will be removed in a future version. Convert inf values to NaN before operating instead.\n",
      "  with pd.option_context('mode.use_inf_as_na', True):\n",
      "/opt/anaconda3/lib/python3.11/site-packages/seaborn/_oldcore.py:1119: FutureWarning: use_inf_as_na option is deprecated and will be removed in a future version. Convert inf values to NaN before operating instead.\n",
      "  with pd.option_context('mode.use_inf_as_na', True):\n",
      "/opt/anaconda3/lib/python3.11/site-packages/seaborn/_oldcore.py:1119: FutureWarning: use_inf_as_na option is deprecated and will be removed in a future version. Convert inf values to NaN before operating instead.\n",
      "  with pd.option_context('mode.use_inf_as_na', True):\n"
     ]
    },
    {
     "data": {
      "image/png": "[encoded data removed]",
      "text/plain": [
       "<Figure size 1200x500 with 1 Axes>"
      ]
     },
     "metadata": {},
     "output_type": "display_data"
    }
   ],
   "source": [
    "plt.subplots(figsize=(12, 5))\n",
    "sns.set(style=\"darkgrid\")\n",
    "sns.lineplot(x='death_year', y='fentanyl_deaths', data=final_deaths, label='Fentanyl')\n",
    "sns.lineplot(x='death_year', y='heroin_deaths', data=final_deaths, label='Heroin')\n",
    "sns.lineplot(x='death_year', y='oxycodone_deaths', data=final_deaths, label = 'Oxycodone')\n",
    "sns.lineplot(x='death_year', y='xylazine_deaths', data=final_deaths, label = 'Xylazine').set(title='Death Rates by Drug', xlabel='Year', ylabel='Total Death Count')\n",
    "plt.margins(x=0)\n",
    "plt.legend()\n",
    "plt.show()"
   ]
  },
  {
   "cell_type": "code",
   "execution_count": 1037,
   "id": "857de92a-19d6-4918-989c-0b2c2e98f7a6",
   "metadata": {},
   "outputs": [
    {
     "data": {
      "text/html": [
       "<div>\n",
       "<style scoped>\n",
       "    .dataframe tbody tr th:only-of-type {\n",
       "        vertical-align: middle;\n",
       "    }\n",
       "\n",
       "    .dataframe tbody tr th {\n",
       "        vertical-align: top;\n",
       "    }\n",
       "\n",
       "    .dataframe thead th {\n",
       "        text-align: right;\n",
       "    }\n",
       "</style>\n",
       "<table border=\"1\" class=\"dataframe\">\n",
       "  <thead>\n",
       "    <tr style=\"text-align: right;\">\n",
       "      <th></th>\n",
       "      <th>death_year</th>\n",
       "      <th>fentanyl_deaths</th>\n",
       "      <th>heroin_deaths</th>\n",
       "      <th>oxycodone_deaths</th>\n",
       "      <th>xylazine_deaths</th>\n",
       "    </tr>\n",
       "  </thead>\n",
       "  <tbody>\n",
       "    <tr>\n",
       "      <th>0</th>\n",
       "      <td>2019</td>\n",
       "      <td>772540</td>\n",
       "      <td>360274</td>\n",
       "      <td>114340</td>\n",
       "      <td>8245</td>\n",
       "    </tr>\n",
       "    <tr>\n",
       "      <th>1</th>\n",
       "      <td>2020</td>\n",
       "      <td>1118368</td>\n",
       "      <td>345970</td>\n",
       "      <td>118414</td>\n",
       "      <td>25346</td>\n",
       "    </tr>\n",
       "    <tr>\n",
       "      <th>2</th>\n",
       "      <td>2021</td>\n",
       "      <td>1545776</td>\n",
       "      <td>273426</td>\n",
       "      <td>123340</td>\n",
       "      <td>62059</td>\n",
       "    </tr>\n",
       "    <tr>\n",
       "      <th>3</th>\n",
       "      <td>2022</td>\n",
       "      <td>1727194</td>\n",
       "      <td>177668</td>\n",
       "      <td>113270</td>\n",
       "      <td>98021</td>\n",
       "    </tr>\n",
       "    <tr>\n",
       "      <th>4</th>\n",
       "      <td>2023</td>\n",
       "      <td>1799900</td>\n",
       "      <td>116976</td>\n",
       "      <td>103360</td>\n",
       "      <td>124287</td>\n",
       "    </tr>\n",
       "  </tbody>\n",
       "</table>\n",
       "</div>"
      ],
      "text/plain": [
       "   death_year  fentanyl_deaths  heroin_deaths  oxycodone_deaths  \\\n",
       "0        2019           772540         360274            114340   \n",
       "1        2020          1118368         345970            118414   \n",
       "2        2021          1545776         273426            123340   \n",
       "3        2022          1727194         177668            113270   \n",
       "4        2023          1799900         116976            103360   \n",
       "\n",
       "   xylazine_deaths  \n",
       "0             8245  \n",
       "1            25346  \n",
       "2            62059  \n",
       "3            98021  \n",
       "4           124287  "
      ]
     },
     "execution_count": 1037,
     "metadata": {},
     "output_type": "execute_result"
    }
   ],
   "source": [
    "final_deaths"
   ]
  },
  {
   "cell_type": "code",
   "execution_count": 1038,
   "id": "8c969780-5767-4fe8-9cbd-76fbfbc4310e",
   "metadata": {},
   "outputs": [],
   "source": [
    "death = pd.read_csv('/Users/gageholcomb/Desktop/DDA13/Capstone/Raw_Capstone/Data/National/Overdose/Provisional_drug_overdose_death_counts_for_specific_drugs_20240731.csv')"
   ]
  },
  {
   "cell_type": "code",
   "execution_count": 1039,
   "id": "1ca6eabf-4958-4758-9763-e7de1b71dc59",
   "metadata": {},
   "outputs": [
    {
     "data": {
      "text/html": [
       "<div>\n",
       "<style scoped>\n",
       "    .dataframe tbody tr th:only-of-type {\n",
       "        vertical-align: middle;\n",
       "    }\n",
       "\n",
       "    .dataframe tbody tr th {\n",
       "        vertical-align: top;\n",
       "    }\n",
       "\n",
       "    .dataframe thead th {\n",
       "        text-align: right;\n",
       "    }\n",
       "</style>\n",
       "<table border=\"1\" class=\"dataframe\">\n",
       "  <thead>\n",
       "    <tr style=\"text-align: right;\">\n",
       "      <th></th>\n",
       "      <th>data_as_of</th>\n",
       "      <th>death_year</th>\n",
       "      <th>death_month</th>\n",
       "      <th>jurisdiction_occurrence</th>\n",
       "      <th>drug_involved</th>\n",
       "      <th>time_period</th>\n",
       "      <th>month_ending_date</th>\n",
       "      <th>drug_overdose_deaths</th>\n",
       "      <th>footnote</th>\n",
       "    </tr>\n",
       "  </thead>\n",
       "  <tbody>\n",
       "    <tr>\n",
       "      <th>0</th>\n",
       "      <td>07/10/2024</td>\n",
       "      <td>2019</td>\n",
       "      <td>1</td>\n",
       "      <td>United States</td>\n",
       "      <td>Cocaine</td>\n",
       "      <td>12 month-ending</td>\n",
       "      <td>01/31/2019</td>\n",
       "      <td>15613.0</td>\n",
       "      <td>NaN</td>\n",
       "    </tr>\n",
       "    <tr>\n",
       "      <th>1</th>\n",
       "      <td>07/10/2024</td>\n",
       "      <td>2019</td>\n",
       "      <td>1</td>\n",
       "      <td>United States</td>\n",
       "      <td>Fentanyl</td>\n",
       "      <td>12 month-ending</td>\n",
       "      <td>01/31/2019</td>\n",
       "      <td>30367.0</td>\n",
       "      <td>NaN</td>\n",
       "    </tr>\n",
       "    <tr>\n",
       "      <th>2</th>\n",
       "      <td>07/10/2024</td>\n",
       "      <td>2019</td>\n",
       "      <td>1</td>\n",
       "      <td>United States</td>\n",
       "      <td>Heroin</td>\n",
       "      <td>12 month-ending</td>\n",
       "      <td>01/31/2019</td>\n",
       "      <td>15475.0</td>\n",
       "      <td>NaN</td>\n",
       "    </tr>\n",
       "    <tr>\n",
       "      <th>3</th>\n",
       "      <td>07/10/2024</td>\n",
       "      <td>2019</td>\n",
       "      <td>1</td>\n",
       "      <td>United States</td>\n",
       "      <td>Methamphetamine</td>\n",
       "      <td>12 month-ending</td>\n",
       "      <td>01/31/2019</td>\n",
       "      <td>12059.0</td>\n",
       "      <td>NaN</td>\n",
       "    </tr>\n",
       "    <tr>\n",
       "      <th>4</th>\n",
       "      <td>07/10/2024</td>\n",
       "      <td>2019</td>\n",
       "      <td>1</td>\n",
       "      <td>United States</td>\n",
       "      <td>Oxycodone</td>\n",
       "      <td>12 month-ending</td>\n",
       "      <td>01/31/2019</td>\n",
       "      <td>5029.0</td>\n",
       "      <td>NaN</td>\n",
       "    </tr>\n",
       "    <tr>\n",
       "      <th>...</th>\n",
       "      <td>...</td>\n",
       "      <td>...</td>\n",
       "      <td>...</td>\n",
       "      <td>...</td>\n",
       "      <td>...</td>\n",
       "      <td>...</td>\n",
       "      <td>...</td>\n",
       "      <td>...</td>\n",
       "      <td>...</td>\n",
       "    </tr>\n",
       "    <tr>\n",
       "      <th>3955</th>\n",
       "      <td>07/10/2024</td>\n",
       "      <td>2023</td>\n",
       "      <td>8</td>\n",
       "      <td>Region 10</td>\n",
       "      <td>Xylazine</td>\n",
       "      <td>12 month-ending</td>\n",
       "      <td>08/31/2023</td>\n",
       "      <td>22.0</td>\n",
       "      <td>NaN</td>\n",
       "    </tr>\n",
       "    <tr>\n",
       "      <th>3956</th>\n",
       "      <td>07/10/2024</td>\n",
       "      <td>2023</td>\n",
       "      <td>9</td>\n",
       "      <td>Region 10</td>\n",
       "      <td>Xylazine</td>\n",
       "      <td>12 month-ending</td>\n",
       "      <td>09/30/2023</td>\n",
       "      <td>23.0</td>\n",
       "      <td>NaN</td>\n",
       "    </tr>\n",
       "    <tr>\n",
       "      <th>3957</th>\n",
       "      <td>07/10/2024</td>\n",
       "      <td>2023</td>\n",
       "      <td>10</td>\n",
       "      <td>Region 10</td>\n",
       "      <td>Xylazine</td>\n",
       "      <td>12 month-ending</td>\n",
       "      <td>10/31/2023</td>\n",
       "      <td>26.0</td>\n",
       "      <td>NaN</td>\n",
       "    </tr>\n",
       "    <tr>\n",
       "      <th>3958</th>\n",
       "      <td>07/10/2024</td>\n",
       "      <td>2023</td>\n",
       "      <td>11</td>\n",
       "      <td>Region 10</td>\n",
       "      <td>Xylazine</td>\n",
       "      <td>12 month-ending</td>\n",
       "      <td>11/30/2023</td>\n",
       "      <td>27.0</td>\n",
       "      <td>NaN</td>\n",
       "    </tr>\n",
       "    <tr>\n",
       "      <th>3959</th>\n",
       "      <td>07/10/2024</td>\n",
       "      <td>2023</td>\n",
       "      <td>12</td>\n",
       "      <td>Region 10</td>\n",
       "      <td>Xylazine</td>\n",
       "      <td>12 month-ending</td>\n",
       "      <td>12/31/2023</td>\n",
       "      <td>35.0</td>\n",
       "      <td>NaN</td>\n",
       "    </tr>\n",
       "  </tbody>\n",
       "</table>\n",
       "<p>3960 rows × 9 columns</p>\n",
       "</div>"
      ],
      "text/plain": [
       "      data_as_of  death_year  death_month jurisdiction_occurrence  \\\n",
       "0     07/10/2024        2019            1           United States   \n",
       "1     07/10/2024        2019            1           United States   \n",
       "2     07/10/2024        2019            1           United States   \n",
       "3     07/10/2024        2019            1           United States   \n",
       "4     07/10/2024        2019            1           United States   \n",
       "...          ...         ...          ...                     ...   \n",
       "3955  07/10/2024        2023            8               Region 10   \n",
       "3956  07/10/2024        2023            9               Region 10   \n",
       "3957  07/10/2024        2023           10               Region 10   \n",
       "3958  07/10/2024        2023           11               Region 10   \n",
       "3959  07/10/2024        2023           12               Region 10   \n",
       "\n",
       "        drug_involved      time_period month_ending_date  \\\n",
       "0             Cocaine  12 month-ending        01/31/2019   \n",
       "1            Fentanyl  12 month-ending        01/31/2019   \n",
       "2              Heroin  12 month-ending        01/31/2019   \n",
       "3     Methamphetamine  12 month-ending        01/31/2019   \n",
       "4           Oxycodone  12 month-ending        01/31/2019   \n",
       "...               ...              ...               ...   \n",
       "3955         Xylazine  12 month-ending        08/31/2023   \n",
       "3956         Xylazine  12 month-ending        09/30/2023   \n",
       "3957         Xylazine  12 month-ending        10/31/2023   \n",
       "3958         Xylazine  12 month-ending        11/30/2023   \n",
       "3959         Xylazine  12 month-ending        12/31/2023   \n",
       "\n",
       "      drug_overdose_deaths footnote  \n",
       "0                  15613.0      NaN  \n",
       "1                  30367.0      NaN  \n",
       "2                  15475.0      NaN  \n",
       "3                  12059.0      NaN  \n",
       "4                   5029.0      NaN  \n",
       "...                    ...      ...  \n",
       "3955                  22.0      NaN  \n",
       "3956                  23.0      NaN  \n",
       "3957                  26.0      NaN  \n",
       "3958                  27.0      NaN  \n",
       "3959                  35.0      NaN  \n",
       "\n",
       "[3960 rows x 9 columns]"
      ]
     },
     "execution_count": 1039,
     "metadata": {},
     "output_type": "execute_result"
    }
   ],
   "source": [
    "death"
   ]
  },
  {
   "cell_type": "code",
   "execution_count": 1040,
   "id": "623f0888-fd99-428e-b98e-38c0b22e10f0",
   "metadata": {},
   "outputs": [],
   "source": [
    "death = death.loc[death['jurisdiction_occurrence'] == 'United States']"
   ]
  },
  {
   "cell_type": "code",
   "execution_count": 1041,
   "id": "db2d5d95-0b24-410a-aa5c-8fdef9d3ea08",
   "metadata": {},
   "outputs": [],
   "source": [
    "pd.options.mode.chained_assignment = None "
   ]
  },
  {
   "cell_type": "code",
   "execution_count": 1042,
   "id": "43c7fa07-3fda-48fb-a390-b075a4585d8d",
   "metadata": {},
   "outputs": [],
   "source": [
    "death['death_year'] = death['death_year'].astype('str')"
   ]
  },
  {
   "cell_type": "code",
   "execution_count": 1043,
   "id": "ed3252c1-236c-4a97-8d33-4ee3e8fe7ef8",
   "metadata": {},
   "outputs": [],
   "source": [
    "death = death[['death_year', 'drug_involved', 'drug_overdose_deaths']]"
   ]
  },
  {
   "cell_type": "code",
   "execution_count": 1044,
   "id": "20912000-6bef-4e36-98c9-0404522f5a75",
   "metadata": {},
   "outputs": [],
   "source": [
    "dheroin = death.loc[death['drug_involved'] == 'Heroin']"
   ]
  },
  {
   "cell_type": "code",
   "execution_count": 1045,
   "id": "90f4616a-d7e6-48c7-9145-260babd0b943",
   "metadata": {},
   "outputs": [],
   "source": [
    "dfentanyl = death.loc[death['drug_involved'] == 'Fentanyl']"
   ]
  },
  {
   "cell_type": "code",
   "execution_count": 1046,
   "id": "121d1d34-8296-4f91-a6e2-ddc7c6316db1",
   "metadata": {},
   "outputs": [],
   "source": [
    "doxycodone = death.loc[death['drug_involved'] == 'Oxycodone']"
   ]
  },
  {
   "cell_type": "code",
   "execution_count": 1047,
   "id": "79bf0abe-6c41-477f-8b2a-59968473f71b",
   "metadata": {},
   "outputs": [],
   "source": [
    "dxylazine = death.loc[death['drug_involved'] == 'Xylazine']"
   ]
  },
  {
   "cell_type": "code",
   "execution_count": 1048,
   "id": "a83d7514-22f0-425a-9ca7-5050bd5e138c",
   "metadata": {},
   "outputs": [
    {
     "name": "stderr",
     "output_type": "stream",
     "text": [
      "/opt/anaconda3/lib/python3.11/site-packages/seaborn/_oldcore.py:1119: FutureWarning: use_inf_as_na option is deprecated and will be removed in a future version. Convert inf values to NaN before operating instead.\n",
      "  with pd.option_context('mode.use_inf_as_na', True):\n",
      "/opt/anaconda3/lib/python3.11/site-packages/seaborn/_oldcore.py:1119: FutureWarning: use_inf_as_na option is deprecated and will be removed in a future version. Convert inf values to NaN before operating instead.\n",
      "  with pd.option_context('mode.use_inf_as_na', True):\n",
      "/opt/anaconda3/lib/python3.11/site-packages/seaborn/_oldcore.py:1119: FutureWarning: use_inf_as_na option is deprecated and will be removed in a future version. Convert inf values to NaN before operating instead.\n",
      "  with pd.option_context('mode.use_inf_as_na', True):\n",
      "/opt/anaconda3/lib/python3.11/site-packages/seaborn/_oldcore.py:1119: FutureWarning: use_inf_as_na option is deprecated and will be removed in a future version. Convert inf values to NaN before operating instead.\n",
      "  with pd.option_context('mode.use_inf_as_na', True):\n",
      "/opt/anaconda3/lib/python3.11/site-packages/seaborn/_oldcore.py:1119: FutureWarning: use_inf_as_na option is deprecated and will be removed in a future version. Convert inf values to NaN before operating instead.\n",
      "  with pd.option_context('mode.use_inf_as_na', True):\n",
      "/opt/anaconda3/lib/python3.11/site-packages/seaborn/_oldcore.py:1119: FutureWarning: use_inf_as_na option is deprecated and will be removed in a future version. Convert inf values to NaN before operating instead.\n",
      "  with pd.option_context('mode.use_inf_as_na', True):\n",
      "/opt/anaconda3/lib/python3.11/site-packages/seaborn/_oldcore.py:1119: FutureWarning: use_inf_as_na option is deprecated and will be removed in a future version. Convert inf values to NaN before operating instead.\n",
      "  with pd.option_context('mode.use_inf_as_na', True):\n",
      "/opt/anaconda3/lib/python3.11/site-packages/seaborn/_oldcore.py:1119: FutureWarning: use_inf_as_na option is deprecated and will be removed in a future version. Convert inf values to NaN before operating instead.\n",
      "  with pd.option_context('mode.use_inf_as_na', True):\n"
     ]
    },
    {
     "data": {
      "text/plain": [
       "<matplotlib.legend.Legend at 0x140743e50>"
      ]
     },
     "execution_count": 1048,
     "metadata": {},
     "output_type": "execute_result"
    },
    {
     "data": {
      "image/png": "[encoded data removed]",
      "text/plain": [
       "<Figure size 1200x500 with 1 Axes>"
      ]
     },
     "metadata": {},
     "output_type": "display_data"
    }
   ],
   "source": [
    "plt.subplots(figsize=(12, 5))\n",
    "sns.set(style=\"darkgrid\")\n",
    "sns.lineplot(x='death_year', y='drug_overdose_deaths', data=dfentanyl, label='Fentanyl')\n",
    "sns.lineplot(x='death_year', y='drug_overdose_deaths', data=dheroin, label='Heroin')\n",
    "sns.lineplot(x='death_year', y='drug_overdose_deaths', data=doxycodone, label = 'Oxycodone')\n",
    "sns.lineplot(x='death_year', y='drug_overdose_deaths', data=dxylazine, label = 'Xylazine').set(title='Death Rates by Drug', xlabel='Year', ylabel='Total Death Count')\n",
    "plt.margins(x=0)\n",
    "plt.legend()\n"
   ]
  },
  {
   "cell_type": "code",
   "execution_count": null,
   "id": "54834b0d-d06a-4e68-94c5-ba6026201c25",
   "metadata": {},
   "outputs": [],
   "source": []
  }
 ],
 "metadata": {
  "kernelspec": {
   "display_name": "Python 3 (ipykernel)",
   "language": "python",
   "name": "python3"
  },
  "language_info": {
   "codemirror_mode": {
    "name": "ipython",
    "version": 3
   },
   "file_extension": ".py",
   "mimetype": "text/x-python",
   "name": "python",
   "nbconvert_exporter": "python",
   "pygments_lexer": "ipython3",
   "version": "3.11.7"
  }
 },
 "nbformat": 4,
 "nbformat_minor": 5
}
