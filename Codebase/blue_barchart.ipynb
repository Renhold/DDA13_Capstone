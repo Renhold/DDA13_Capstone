{
 "cells": [
  {
   "cell_type": "code",
   "execution_count": 145,
   "id": "1824c6a3-962b-4b62-8c5b-6aada384e1ad",
   "metadata": {},
   "outputs": [],
   "source": [
    "import pandas as pd\n",
    "import seaborn as sns\n",
    "import numpy as np\n",
    "import matplotlib.pyplot as plt\n",
    "from itertools import cycle, islice"
   ]
  },
  {
   "cell_type": "code",
   "execution_count": 115,
   "id": "88219601-2fcb-47d7-8b0e-e15f3370c3d8",
   "metadata": {},
   "outputs": [],
   "source": [
    "df = pd.DataFrame({\n",
    "   'Q1': [74, 80, 105, 147, 162, 193, 170],\n",
    "   'Q2': [85, 92, 105, 177, 204, 164, 188],\n",
    "   'Q3': [78, 87, 129, 157, 177, 181, 191],\n",
    "   'Q4': [93, 86, 129, 140, 182, 216, 165],\n",
    "})"
   ]
  },
  {
   "cell_type": "code",
   "execution_count": 116,
   "id": "19f3ef56-7eab-43b2-b1f6-fabe866e27f0",
   "metadata": {},
   "outputs": [],
   "source": [
    "df = df.rename(index={0: '2017', 1:'2018',2:'2019',3:'2020',4:'2021',5:'2022',6:'2023'})"
   ]
  },
  {
   "cell_type": "code",
   "execution_count": 117,
   "id": "65f9d957-cb48-4114-aca6-c49d3726ae0c",
   "metadata": {},
   "outputs": [
    {
     "data": {
      "text/html": [
       "<div>\n",
       "<style scoped>\n",
       "    .dataframe tbody tr th:only-of-type {\n",
       "        vertical-align: middle;\n",
       "    }\n",
       "\n",
       "    .dataframe tbody tr th {\n",
       "        vertical-align: top;\n",
       "    }\n",
       "\n",
       "    .dataframe thead th {\n",
       "        text-align: right;\n",
       "    }\n",
       "</style>\n",
       "<table border=\"1\" class=\"dataframe\">\n",
       "  <thead>\n",
       "    <tr style=\"text-align: right;\">\n",
       "      <th></th>\n",
       "      <th>Q1</th>\n",
       "      <th>Q2</th>\n",
       "      <th>Q3</th>\n",
       "      <th>Q4</th>\n",
       "    </tr>\n",
       "  </thead>\n",
       "  <tbody>\n",
       "    <tr>\n",
       "      <th>2017</th>\n",
       "      <td>74</td>\n",
       "      <td>85</td>\n",
       "      <td>78</td>\n",
       "      <td>93</td>\n",
       "    </tr>\n",
       "    <tr>\n",
       "      <th>2018</th>\n",
       "      <td>80</td>\n",
       "      <td>92</td>\n",
       "      <td>87</td>\n",
       "      <td>86</td>\n",
       "    </tr>\n",
       "    <tr>\n",
       "      <th>2019</th>\n",
       "      <td>105</td>\n",
       "      <td>105</td>\n",
       "      <td>129</td>\n",
       "      <td>129</td>\n",
       "    </tr>\n",
       "    <tr>\n",
       "      <th>2020</th>\n",
       "      <td>147</td>\n",
       "      <td>177</td>\n",
       "      <td>157</td>\n",
       "      <td>140</td>\n",
       "    </tr>\n",
       "    <tr>\n",
       "      <th>2021</th>\n",
       "      <td>162</td>\n",
       "      <td>204</td>\n",
       "      <td>177</td>\n",
       "      <td>182</td>\n",
       "    </tr>\n",
       "    <tr>\n",
       "      <th>2022</th>\n",
       "      <td>193</td>\n",
       "      <td>164</td>\n",
       "      <td>181</td>\n",
       "      <td>216</td>\n",
       "    </tr>\n",
       "    <tr>\n",
       "      <th>2023</th>\n",
       "      <td>170</td>\n",
       "      <td>188</td>\n",
       "      <td>191</td>\n",
       "      <td>165</td>\n",
       "    </tr>\n",
       "  </tbody>\n",
       "</table>\n",
       "</div>"
      ],
      "text/plain": [
       "       Q1   Q2   Q3   Q4\n",
       "2017   74   85   78   93\n",
       "2018   80   92   87   86\n",
       "2019  105  105  129  129\n",
       "2020  147  177  157  140\n",
       "2021  162  204  177  182\n",
       "2022  193  164  181  216\n",
       "2023  170  188  191  165"
      ]
     },
     "execution_count": 117,
     "metadata": {},
     "output_type": "execute_result"
    }
   ],
   "source": [
    "df"
   ]
  },
  {
   "cell_type": "code",
   "execution_count": 345,
   "id": "e2dd9137-4657-48fe-b5a7-2bae6025e1a2",
   "metadata": {},
   "outputs": [
    {
     "data": {
      "text/plain": [
       "Text(0.5, 1.0, 'Davidson County Overdose Deaths')"
      ]
     },
     "execution_count": 345,
     "metadata": {},
     "output_type": "execute_result"
    },
    {
     "data": {
      "image/png": "[encoded data removed]",
      "text/plain": [
       "<Figure size 640x480 with 1 Axes>"
      ]
     },
     "metadata": {},
     "output_type": "display_data"
    }
   ],
   "source": [
    "my_colors = list(islice(cycle(['b', 'r', 'g', '0']), None, len(df)))\n",
    "my_colors = [(2,0.4,2), (2, 1, 3)]*2\n",
    "my_colors = [(x/15, x/4, 0.65) for x in range(len(df))]\n",
    "df.plot(kind='bar', stacked=True, color=my_colors)\n",
    "plt.xlabel(\"Year\")\n",
    "plt.ylabel(\"Total Deaths\")\n",
    "plt.title(\"Davidson County Overdose Deaths\")"
   ]
  },
  {
   "cell_type": "markdown",
   "id": "5044ac62-8d8e-48e2-a91b-47750c616093",
   "metadata": {},
   "source": [
    "## "
   ]
  }
 ],
 "metadata": {
  "kernelspec": {
   "display_name": "Python 3 (ipykernel)",
   "language": "python",
   "name": "python3"
  },
  "language_info": {
   "codemirror_mode": {
    "name": "ipython",
    "version": 3
   },
   "file_extension": ".py",
   "mimetype": "text/x-python",
   "name": "python",
   "nbconvert_exporter": "python",
   "pygments_lexer": "ipython3",
   "version": "3.11.7"
  }
 },
 "nbformat": 4,
 "nbformat_minor": 5
}
